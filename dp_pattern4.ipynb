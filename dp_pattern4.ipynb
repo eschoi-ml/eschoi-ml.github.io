{
  "nbformat": 4,
  "nbformat_minor": 0,
  "metadata": {
    "colab": {
      "name": "dp-pattern4.ipynb",
      "provenance": [],
      "toc_visible": true,
      "authorship_tag": "ABX9TyNT0CS71jEJy4s4iojJOrw3",
      "include_colab_link": true
    },
    "kernelspec": {
      "name": "python3",
      "display_name": "Python 3"
    },
    "language_info": {
      "name": "python"
    }
  },
  "cells": [
    {
      "cell_type": "markdown",
      "metadata": {
        "id": "view-in-github",
        "colab_type": "text"
      },
      "source": [
        "<a href=\"https://colab.research.google.com/github/eschoi-ml/eschoi-ml.github.io/blob/main/dp_pattern4.ipynb\" target=\"_parent\"><img src=\"https://colab.research.google.com/assets/colab-badge.svg\" alt=\"Open In Colab\"/></a>"
      ]
    },
    {
      "cell_type": "markdown",
      "metadata": {
        "id": "ofpwZ03mY1ax"
      },
      "source": [
        "# Dynamic Programming\n",
        "# Pattern 4. DP on strings\n",
        "\n",
        "- Substring: a contiguous sequence of characters within the string.\n",
        "- Subsequence: a sequence that can be derived from another sequence by deleting some or no elements without changing the order of the remaining elements.\n",
        "- Supersequence: the shortest string that has both str1 and str2 as subsequences.  \n",
        "\n",
        "**One string: Palindromic Substring and Subsequence**\n",
        "```python\n",
        "for l in range(1, n):\n",
        "    for i in range(n-l):\n",
        "        j = i + l\n",
        "        if s[i] == s[j] and ... :\n",
        "            dp[i][j] = update\n",
        "        else:\n",
        "            dp[i][j] = update\n",
        "```\n",
        "- Palindromic Substrings\n",
        "- Longest Palindromic Substring\n",
        "- Longest Palindromic Subsequence\n",
        "\n",
        "\n",
        "**Two strings: Subsequence or Supersequence**\n",
        "```python\n",
        "for i in range(1, m + 1):\n",
        "    for j in range(1, n + 1):\n",
        "        if word1[i-1] == word2[j-1]:\n",
        "            dp[i][j] = dp[i-1][j-1] + ...\n",
        "        else:\n",
        "            dp[i][j] = ...\n",
        "```\n",
        "- Longest Common Subsequence\n",
        "- Shortest Common Supersequence\n",
        "- Distinct Subsequences\n",
        "- Delete Operation for Two Strings\n",
        "- Edit Distance\n",
        "- Minimum ASCII Delete Sum for Two Strings\n",
        "\n"
      ]
    },
    {
      "cell_type": "markdown",
      "metadata": {
        "id": "urtAyRHPoun8"
      },
      "source": [
        "## One string: Palindromic Substring and Subsequence"
      ]
    },
    {
      "cell_type": "markdown",
      "metadata": {
        "id": "JgUTQiBSoz4h"
      },
      "source": [
        "### [Palindromic Substrings](https://leetcode.com/problems/palindromic-substrings/)\n",
        "*Given a string s, return the number of palindromic substrings in it.*"
      ]
    },
    {
      "cell_type": "code",
      "metadata": {
        "id": "uf_y00N1ozN_"
      },
      "source": [
        "    def countSubstrings(self, s: str) -> int:\n",
        "        \"\"\"\n",
        "        dp[i][j]: boolean of palindromic substrings from s[i] to s[j]\n",
        "            a a a\n",
        "        i\\j 0 1 2\n",
        "        a 0 1 \n",
        "        a 1 0 1\n",
        "        a 2 0 0 1\n",
        "\n",
        "        l = 1, ..., n-1\n",
        "        i = 0, ..., n-l-1\n",
        "        j = i + l = l, ..., n-1\n",
        "        \n",
        "        if s[i] == s[j] and ...:\n",
        "            dp[i][j] = dp[i+1][j-1] + 2\n",
        "            \n",
        "        \"\"\"\n",
        "        \n",
        "        n = len(s)\n",
        "        dp = [[0] * n for _ in range(n)]\n",
        "        for i in range(n):\n",
        "            dp[i][i] = 1\n",
        "        \n",
        "        res = n\n",
        "        for l in range(1, n):\n",
        "            for i in range(n-l):\n",
        "                j = i + l\n",
        "                if s[i] == s[j] and (j - i + 1 <= 3 or dp[i+1][j-1] == j - i - 1):\n",
        "                    dp[i][j] = dp[i+1][j-1] + 2\n",
        "                    res += 1\n",
        "        return res"
      ],
      "execution_count": null,
      "outputs": []
    },
    {
      "cell_type": "markdown",
      "metadata": {
        "id": "Ykk3Ze-SpRiE"
      },
      "source": [
        "### [Longest Palindromic Substring](https://leetcode.com/problems/longest-palindromic-substring/)\n",
        "*Given a string s, return the longest palindromic substring in s.*"
      ]
    },
    {
      "cell_type": "code",
      "metadata": {
        "id": "3cJmL8RupapF"
      },
      "source": [
        "def longestPalindrome(self, s: str) -> str:\n",
        "    \n",
        "    n = len(s)\n",
        "    dp = [[0] * n for _ in range(n)]\n",
        "    for i in range(n):\n",
        "        dp[i][i] = 1\n",
        "        \n",
        "\n",
        "    res = s[0]\n",
        "    for l in range(1, n):\n",
        "        for i in range(n - l):\n",
        "            j = i + l\n",
        "            if s[i] == s[j] and (j - i + 1 <= 3 or dp[i+1][j-1] == j - i - 1):\n",
        "                dp[i][j] = dp[i+1][j-1] + 2\n",
        "                res = s[i:j+1]\n",
        "    return res"
      ],
      "execution_count": 1,
      "outputs": []
    },
    {
      "cell_type": "markdown",
      "metadata": {
        "id": "wk2gAUkSsA7s"
      },
      "source": [
        "### [Longest Palindromic Subsequence](https://leetcode.com/problems/longest-palindromic-subsequence/)\n",
        "*Given a string s, find the longest palindromic subsequence's length in s.*"
      ]
    },
    {
      "cell_type": "code",
      "metadata": {
        "id": "ir2bBjtjphxd"
      },
      "source": [
        "def longestPalindromeSubseq(self, s: str) -> int:\n",
        "    \"\"\"\n",
        "    dp[i][j]: the longest palindromic subsequences's length from s[i] to s[j]\n",
        "    \n",
        "    l = 1, ..., n-1\n",
        "    i = 0, ..., n-l-1\n",
        "    j = i + l = l, ..., n-1\n",
        "    \n",
        "    1) s[i] == s[j]:\n",
        "    dp[i][j] = dp[i+1][j-1] + 2\n",
        "    2) s[i] != s[j]\n",
        "    dp[i][j] = max(dp[i+1][j], dp[i][j-1])\n",
        "    \n",
        "    \n",
        "    \"\"\"\n",
        "    \n",
        "    n = len(s)\n",
        "    dp = [[0] * n for _ in range(n)]\n",
        "    for i in range(n):\n",
        "        dp[i][i] = 1\n",
        "    \n",
        "    for l in range(1, n):\n",
        "        for i in range(n-l):\n",
        "            j = i + l\n",
        "            if s[i]==s[j]:\n",
        "                dp[i][j] = dp[i+1][j-1] + 2\n",
        "            else:\n",
        "                dp[i][j] = max(dp[i+1][j], dp[i][j-1])\n",
        "\n",
        "    return dp[0][-1]"
      ],
      "execution_count": null,
      "outputs": []
    },
    {
      "cell_type": "markdown",
      "metadata": {
        "id": "jyNTdtfWps6O"
      },
      "source": [
        "## Two strings: Subsequence or Supersequence\n"
      ]
    },
    {
      "cell_type": "markdown",
      "metadata": {
        "id": "CN1zgER5ZBE8"
      },
      "source": [
        "### [Longest Common Subsequence](https://leetcode.com/problems/longest-common-subsequence/)\n",
        "*Given two strings text1 and text2, return the length of their longest common subsequence.*"
      ]
    },
    {
      "cell_type": "code",
      "metadata": {
        "id": "0-WjjXt8YsRJ"
      },
      "source": [
        "def longestCommonSubsequence(self, text1: str, text2: str) -> int:\n",
        "    \"\"\"\n",
        "    dp[i][j]: the length of the longest common subsequence \n",
        "                from text1[:i] and text2[:j]\n",
        "    \n",
        "          a c e\n",
        "    i\\j 0 1 2 3\n",
        "      0      ans\n",
        "    a 1\n",
        "    b 2\n",
        "    c 3\n",
        "    d 4\n",
        "    e 5\n",
        "    \n",
        "    if text1[i-1] == text2[j-1]:\n",
        "        dp[i][j] = dp[i-1][j-1] + 1\n",
        "    else:\n",
        "        dp[i][j] = max(dp[i-1][j], dp[i][j-1])\n",
        "    \n",
        "    \"\"\"\n",
        "    # Solution 1. O(m*n) & O(m*n)\n",
        "    m, n = len(text1), len(text2)\n",
        "    dp = [[0] * (n + 1) for _ in range(m + 1)]\n",
        "    \n",
        "    for i in range(1, m + 1):\n",
        "        for j in range(1, n + 1):\n",
        "            if text1[i-1] == text2[j-1]:\n",
        "                dp[i][j] = dp[i-1][j-1] + 1\n",
        "            else:\n",
        "                dp[i][j] = max(dp[i-1][j], dp[i][j-1])\n",
        "    \n",
        "    return dp[-1][-1]\n",
        "    \n",
        "    \n",
        "    # Space optimized solution: O(m*n) & O(min(m, n))\n",
        "    \n",
        "    if len(text1) < len(text2):\n",
        "        text1, text2 = text2, text1\n",
        "    m, n = len(text1), len(text2)\n",
        "    \n",
        "    dp = [0] * (n + 1)\n",
        "    for i in range(1, m + 1):\n",
        "        curr_dp = [0] * (n + 1)\n",
        "        for j in range(1, n + 1):\n",
        "            if text1[i-1] == text2[j-1]:\n",
        "                curr_dp[j] = dp[j-1] + 1\n",
        "            else:\n",
        "                curr_dp[j] = max(dp[j], curr_dp[j-1])\n",
        "        dp = curr_dp\n",
        "    return dp[-1]\n",
        "        "
      ],
      "execution_count": null,
      "outputs": []
    },
    {
      "cell_type": "markdown",
      "metadata": {
        "id": "ccBcKM_uQVsO"
      },
      "source": [
        "### [Shortest Common Supersequence](https://leetcode.com/problems/shortest-common-supersequence/)\n",
        "*Given two strings str1 and str2, return the shortest string that has both str1 and str2 as subsequences.*"
      ]
    },
    {
      "cell_type": "code",
      "metadata": {
        "id": "nRI2_5ObQfma"
      },
      "source": [
        "def shortestCommonSupersequence(self, str1: str, str2: str) -> str:\n",
        "    \"\"\"\n",
        "    dp[i][j]: the longest common subsequence string between str1[:i] and str[:j]\n",
        "    \n",
        "    \"\"\"\n",
        "    m, n = len(str1), len(str2)\n",
        "    dp = [[\"\"] * (n + 1) for _ in range(m + 1)]\n",
        "    \n",
        "    for i in range(1, m + 1):\n",
        "        for j in range(1, n + 1):\n",
        "            if str1[i-1] == str2[j-1]:\n",
        "                dp[i][j] = dp[i-1][j-1] + str1[i-1]\n",
        "            else:\n",
        "                dp[i][j] = max(dp[i-1][j], dp[i][j-1], key=len)\n",
        "    \n",
        "    res = \"\"\n",
        "    i = j = 0\n",
        "    for ch in dp[m][n]:\n",
        "\n",
        "        while i < m and str1[i] != ch:\n",
        "            res += str1[i]\n",
        "            i += 1\n",
        "        while j < n and str2[j] != ch:\n",
        "            res += str2[j]\n",
        "            j += 1\n",
        "        \n",
        "        res += str1[i]\n",
        "        i += 1\n",
        "        j += 1\n",
        "    \n",
        "    if i < m:\n",
        "        res += str1[i:]\n",
        "    \n",
        "    if j < n:\n",
        "        res += str2[j:] \n",
        "\n",
        "    return res"
      ],
      "execution_count": null,
      "outputs": []
    },
    {
      "cell_type": "markdown",
      "metadata": {
        "id": "68KhCBN0RQFp"
      },
      "source": [
        "### [Distinct Subsequences](https://leetcode.com/problems/distinct-subsequences/)\n",
        "*Given two strings s and t, return the number of distinct subsequences of s which equals t.*"
      ]
    },
    {
      "cell_type": "code",
      "metadata": {
        "id": "-oIUJFuPRYDi"
      },
      "source": [
        "def numDistinct(self, s: str, t: str) -> int:\n",
        "    \"\"\"\n",
        "    dp[i][j]: the number of distinct subseuqences of s[:i] which equals t[:j]\n",
        "            r a b b i t\n",
        "    i\\j 0 1 2 3 4 5 6\n",
        "        0 1 0 0 0 0 0 0 \n",
        "    r 1 0 1 0 0 0 0 0 \n",
        "    a 2 0 1 1 0 0 0 0 \n",
        "    b 3 0 1 1 1 0 0 0 \n",
        "    b 4 0 1 1 2 1 0 0 \n",
        "    b 5 0 1 1 3 3 0 0\n",
        "    i 6 0 1 1 3 3 3 0\n",
        "    t 7 0 1 1 3 3 3 3\n",
        "    \n",
        "    \n",
        "    if s[i-1] == t[i-1]:\n",
        "        dp[i][j] = dp[i-1][j] + dp[i-1][j-1]\n",
        "    else:\n",
        "        dp[i][j] = dp[i-1][j]\n",
        "    \n",
        "    \"\"\"\n",
        "    # Solution: O(m*n) & O(m*n)\n",
        "    m, n = len(s), len(t)\n",
        "    dp = [[0] * (n + 1) for _ in range(m + 1)]\n",
        "    for i in range(m + 1):\n",
        "        dp[i][0] = 1\n",
        "    \n",
        "    for i in range(1, m + 1):\n",
        "        for j in range(1, n + 1):\n",
        "            if s[i-1] == t[j-1]:\n",
        "                dp[i][j] = dp[i-1][j-1] + dp[i-1][j]\n",
        "            else:\n",
        "                dp[i][j] = dp[i-1][j]\n",
        "    return dp[-1][-1]\n",
        "\n",
        "    # Space optimized solution: O(m*n) & O(n)\n",
        "    m, n = len(s), len(t)\n",
        "    dp = [0] * (n + 1)\n",
        "    dp[0] = 1\n",
        "    \n",
        "    for i in range(1, m + 1):\n",
        "        curr_dp = [1] + [0] * n\n",
        "        for j in range(1, n + 1):\n",
        "            if s[i-1] == t[j-1]:\n",
        "                curr_dp[j] = dp[j-1] + dp[j]\n",
        "            else:\n",
        "                curr_dp[j] = dp[j]\n",
        "        dp = curr_dp\n",
        "    return dp[-1]"
      ],
      "execution_count": null,
      "outputs": []
    },
    {
      "cell_type": "markdown",
      "metadata": {
        "id": "y_Zfdn1BfABN"
      },
      "source": [
        "### [Delete Operation for Two Strings](https://leetcode.com/problems/delete-operation-for-two-strings/)\n",
        "*Given two strings word1 and word2, return the minimum number of steps required to make word1 and word2 the same.*\n"
      ]
    },
    {
      "cell_type": "code",
      "metadata": {
        "id": "3BilmB8PfKyM"
      },
      "source": [
        "def minDistance(self, word1: str, word2: str) -> int:\n",
        "    \"\"\"\n",
        "    dp[i][j]: the length of the longest common subsequence\n",
        "    \n",
        "    \"\"\"\n",
        "    \n",
        "    m, n = len(word1), len(word2)\n",
        "    dp = [[0] * (n + 1) for _ in range(m + 1)]\n",
        "    \n",
        "    for i in range(1, m + 1):\n",
        "        for j in range(1, n + 1):\n",
        "            if word1[i-1] == word2[j-1]:\n",
        "                dp[i][j] = dp[i-1][j-1] + 1\n",
        "            else:\n",
        "                dp[i][j] = max(dp[i-1][j], dp[i][j-1])\n",
        "    return m + n - 2 * dp[-1][-1]"
      ],
      "execution_count": null,
      "outputs": []
    },
    {
      "cell_type": "markdown",
      "metadata": {
        "id": "5cQ3pRcTr5AB"
      },
      "source": [
        "### [Edit Distance](https://leetcode.com/problems/edit-distance/)\n",
        "*Given two strings word1 and word2, return the minimum number of operations required to convert word1 to word2.*"
      ]
    },
    {
      "cell_type": "code",
      "metadata": {
        "id": "PSjdJMxdsAOV"
      },
      "source": [
        "def minDistance(self, word1: str, word2: str) -> int:\n",
        "    \"\"\"\n",
        "    dp[i][j]: the minimum number of operations required \n",
        "                to convert word1[:i] to word2[:j]\n",
        "    \n",
        "    \"\"\"\n",
        "    m, n = len(word1), len(word2)\n",
        "    if m == 0 or n == 0:\n",
        "        return m or n\n",
        "    \n",
        "    dp = [[0] * (n + 1) for _ in range(m + 1)]\n",
        "    for i in range(1, m + 1):\n",
        "        dp[i][0] = i\n",
        "    for i in range(1, n + 1):\n",
        "        dp[0][i] = i\n",
        "    \n",
        "    for i in range(1, m + 1):\n",
        "        for j in range(1, n + 1):\n",
        "            if word1[i-1] == word2[j-1]:\n",
        "                dp[i][j] = min(dp[i-1][j] + 1, dp[i][j-1] + 1, dp[i-1][j-1])\n",
        "            else:\n",
        "                dp[i][j] = min(dp[i-1][j] + 1, dp[i][j-1] + 1, dp[i-1][j-1] + 1)\n",
        "    return dp[-1][-1]"
      ],
      "execution_count": null,
      "outputs": []
    },
    {
      "cell_type": "markdown",
      "metadata": {
        "id": "8VV5uJRWfVdK"
      },
      "source": [
        "### [Minimum ASCII Delete Sum for Two Strings](https://leetcode.com/problems/minimum-ascii-delete-sum-for-two-strings/)\n",
        "*Given two strings s1 and s2, return the lowest ASCII sum of deleted characters to make two strings equal.*"
      ]
    },
    {
      "cell_type": "code",
      "metadata": {
        "id": "mkIBUUpnfe8l"
      },
      "source": [
        "def minimumDeleteSum(self, s1: str, s2: str) -> int:\n",
        "    \"\"\"\n",
        "    dp[i][j]: the lowest ASCII sum of deleted characters to make s1[:i] and s2[:j] equal\n",
        "    \n",
        "    \"\"\"\n",
        "    m, n = len(s1), len(s2)\n",
        "    dp = [[0] * (n + 1) for _ in range(m + 1)]\n",
        "    \n",
        "    for i in range(1, m + 1):\n",
        "        dp[i][0] = dp[i-1][0] + ord(s1[i-1]) \n",
        "    for i in range(1, n + 1):\n",
        "        dp[0][i] = dp[0][i-1] + ord(s2[i-1])\n",
        "    \n",
        "    for i in range(1, m + 1):\n",
        "        for j in range(1, n + 1):\n",
        "            if s1[i-1] == s2[j-1]:\n",
        "                dp[i][j] = dp[i-1][j-1]\n",
        "            else:\n",
        "                dp[i][j] = min(dp[i-1][j] + ord(s1[i-1]), dp[i][j-1] + ord(s2[j-1]))\n",
        "\n",
        "    return dp[-1][-1]"
      ],
      "execution_count": null,
      "outputs": []
    }
  ]
}